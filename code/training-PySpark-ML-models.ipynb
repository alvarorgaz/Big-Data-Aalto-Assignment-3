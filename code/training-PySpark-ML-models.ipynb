{
 "cells": [
  {
   "cell_type": "code",
   "execution_count": 1,
   "metadata": {},
   "outputs": [],
   "source": [
    "import pyspark\n",
    "import pandas as pd\n",
    "from pyspark.ml.feature import VectorAssembler\n",
    "from pyspark.ml.regression import LinearRegression, GBTRegressor\n",
    "from pyspark.ml.evaluation import RegressionEvaluator"
   ]
  },
  {
   "cell_type": "markdown",
   "metadata": {},
   "source": [
    "Initialize Spark session."
   ]
  },
  {
   "cell_type": "code",
   "execution_count": 2,
   "metadata": {},
   "outputs": [],
   "source": [
    "spark = pyspark.sql.SparkSession.builder.appName('2018_Yellow_Taxi_Trip_Data').getOrCreate()\n",
    "spark.sparkContext._conf.set('spark.executor.cores', 4)"
   ]
  },
  {
   "cell_type": "markdown",
   "metadata": {},
   "source": [
    "Read data."
   ]
  },
  {
   "cell_type": "code",
   "execution_count": 3,
   "metadata": {},
   "outputs": [],
   "source": [
    "df = spark.read.csv('hdfs://cluster-ebb0-m/hadoop/2018_Yellow_Taxi_Trip_Data.csv', header=True, inferSchema=True)"
   ]
  },
  {
   "cell_type": "code",
   "execution_count": 4,
   "metadata": {},
   "outputs": [
    {
     "data": {
      "text/plain": [
       "['VendorID',\n",
       " 'tpep_pickup_datetime',\n",
       " 'tpep_dropoff_datetime',\n",
       " 'passenger_count',\n",
       " 'trip_distance',\n",
       " 'RatecodeID',\n",
       " 'store_and_fwd_flag',\n",
       " 'PULocationID',\n",
       " 'DOLocationID',\n",
       " 'payment_type',\n",
       " 'fare_amount',\n",
       " 'extra',\n",
       " 'mta_tax',\n",
       " 'tip_amount',\n",
       " 'tolls_amount',\n",
       " 'improvement_surcharge',\n",
       " 'total_amount']"
      ]
     },
     "execution_count": 4,
     "metadata": {},
     "output_type": "execute_result"
    }
   ],
   "source": [
    "df.columns"
   ]
  },
  {
   "cell_type": "markdown",
   "metadata": {},
   "source": [
    "View the data schema."
   ]
  },
  {
   "cell_type": "code",
   "execution_count": 5,
   "metadata": {},
   "outputs": [
    {
     "data": {
      "text/plain": [
       "[('VendorID', 'int'),\n",
       " ('tpep_pickup_datetime', 'string'),\n",
       " ('tpep_dropoff_datetime', 'string'),\n",
       " ('passenger_count', 'int'),\n",
       " ('trip_distance', 'double'),\n",
       " ('RatecodeID', 'int'),\n",
       " ('store_and_fwd_flag', 'string'),\n",
       " ('PULocationID', 'int'),\n",
       " ('DOLocationID', 'int'),\n",
       " ('payment_type', 'int'),\n",
       " ('fare_amount', 'double'),\n",
       " ('extra', 'double'),\n",
       " ('mta_tax', 'double'),\n",
       " ('tip_amount', 'double'),\n",
       " ('tolls_amount', 'double'),\n",
       " ('improvement_surcharge', 'double'),\n",
       " ('total_amount', 'double')]"
      ]
     },
     "execution_count": 5,
     "metadata": {},
     "output_type": "execute_result"
    }
   ],
   "source": [
    "df.dtypes"
   ]
  },
  {
   "cell_type": "markdown",
   "metadata": {},
   "source": [
    "View the first 5 observations."
   ]
  },
  {
   "cell_type": "code",
   "execution_count": 5,
   "metadata": {},
   "outputs": [
    {
     "data": {
      "text/html": [
       "<div>\n",
       "<style scoped>\n",
       "    .dataframe tbody tr th:only-of-type {\n",
       "        vertical-align: middle;\n",
       "    }\n",
       "\n",
       "    .dataframe tbody tr th {\n",
       "        vertical-align: top;\n",
       "    }\n",
       "\n",
       "    .dataframe thead th {\n",
       "        text-align: right;\n",
       "    }\n",
       "</style>\n",
       "<table border=\"1\" class=\"dataframe\">\n",
       "  <thead>\n",
       "    <tr style=\"text-align: right;\">\n",
       "      <th></th>\n",
       "      <th>0</th>\n",
       "      <th>1</th>\n",
       "      <th>2</th>\n",
       "      <th>3</th>\n",
       "      <th>4</th>\n",
       "    </tr>\n",
       "  </thead>\n",
       "  <tbody>\n",
       "    <tr>\n",
       "      <th>VendorID</th>\n",
       "      <td>1</td>\n",
       "      <td>2</td>\n",
       "      <td>2</td>\n",
       "      <td>1</td>\n",
       "      <td>1</td>\n",
       "    </tr>\n",
       "    <tr>\n",
       "      <th>tpep_pickup_datetime</th>\n",
       "      <td>09/04/2018 08:52:14 PM</td>\n",
       "      <td>09/04/2018 08:33:03 PM</td>\n",
       "      <td>09/04/2018 08:54:45 PM</td>\n",
       "      <td>09/04/2018 08:57:24 PM</td>\n",
       "      <td>09/04/2018 08:30:56 PM</td>\n",
       "    </tr>\n",
       "    <tr>\n",
       "      <th>tpep_dropoff_datetime</th>\n",
       "      <td>09/04/2018 08:59:39 PM</td>\n",
       "      <td>09/04/2018 08:40:55 PM</td>\n",
       "      <td>09/04/2018 09:04:58 PM</td>\n",
       "      <td>09/04/2018 09:06:24 PM</td>\n",
       "      <td>09/04/2018 08:41:18 PM</td>\n",
       "    </tr>\n",
       "    <tr>\n",
       "      <th>passenger_count</th>\n",
       "      <td>1</td>\n",
       "      <td>1</td>\n",
       "      <td>1</td>\n",
       "      <td>1</td>\n",
       "      <td>1</td>\n",
       "    </tr>\n",
       "    <tr>\n",
       "      <th>trip_distance</th>\n",
       "      <td>1.2</td>\n",
       "      <td>1.06</td>\n",
       "      <td>1.91</td>\n",
       "      <td>1.3</td>\n",
       "      <td>1.2</td>\n",
       "    </tr>\n",
       "    <tr>\n",
       "      <th>RatecodeID</th>\n",
       "      <td>1</td>\n",
       "      <td>1</td>\n",
       "      <td>1</td>\n",
       "      <td>1</td>\n",
       "      <td>1</td>\n",
       "    </tr>\n",
       "    <tr>\n",
       "      <th>store_and_fwd_flag</th>\n",
       "      <td>N</td>\n",
       "      <td>N</td>\n",
       "      <td>N</td>\n",
       "      <td>N</td>\n",
       "      <td>N</td>\n",
       "    </tr>\n",
       "    <tr>\n",
       "      <th>PULocationID</th>\n",
       "      <td>142</td>\n",
       "      <td>113</td>\n",
       "      <td>211</td>\n",
       "      <td>161</td>\n",
       "      <td>239</td>\n",
       "    </tr>\n",
       "    <tr>\n",
       "      <th>DOLocationID</th>\n",
       "      <td>48</td>\n",
       "      <td>90</td>\n",
       "      <td>234</td>\n",
       "      <td>234</td>\n",
       "      <td>238</td>\n",
       "    </tr>\n",
       "    <tr>\n",
       "      <th>payment_type</th>\n",
       "      <td>1</td>\n",
       "      <td>1</td>\n",
       "      <td>2</td>\n",
       "      <td>1</td>\n",
       "      <td>1</td>\n",
       "    </tr>\n",
       "    <tr>\n",
       "      <th>fare_amount</th>\n",
       "      <td>7</td>\n",
       "      <td>6.5</td>\n",
       "      <td>9</td>\n",
       "      <td>7.5</td>\n",
       "      <td>8.5</td>\n",
       "    </tr>\n",
       "    <tr>\n",
       "      <th>extra</th>\n",
       "      <td>0.5</td>\n",
       "      <td>0.5</td>\n",
       "      <td>0.5</td>\n",
       "      <td>0.5</td>\n",
       "      <td>0.5</td>\n",
       "    </tr>\n",
       "    <tr>\n",
       "      <th>mta_tax</th>\n",
       "      <td>0.5</td>\n",
       "      <td>0.5</td>\n",
       "      <td>0.5</td>\n",
       "      <td>0.5</td>\n",
       "      <td>0.5</td>\n",
       "    </tr>\n",
       "    <tr>\n",
       "      <th>tip_amount</th>\n",
       "      <td>1.25</td>\n",
       "      <td>1.56</td>\n",
       "      <td>0</td>\n",
       "      <td>1.75</td>\n",
       "      <td>1.96</td>\n",
       "    </tr>\n",
       "    <tr>\n",
       "      <th>tolls_amount</th>\n",
       "      <td>0</td>\n",
       "      <td>0</td>\n",
       "      <td>0</td>\n",
       "      <td>0</td>\n",
       "      <td>0</td>\n",
       "    </tr>\n",
       "    <tr>\n",
       "      <th>improvement_surcharge</th>\n",
       "      <td>0.3</td>\n",
       "      <td>0.3</td>\n",
       "      <td>0.3</td>\n",
       "      <td>0.3</td>\n",
       "      <td>0.3</td>\n",
       "    </tr>\n",
       "    <tr>\n",
       "      <th>total_amount</th>\n",
       "      <td>9.55</td>\n",
       "      <td>9.36</td>\n",
       "      <td>10.3</td>\n",
       "      <td>10.55</td>\n",
       "      <td>11.76</td>\n",
       "    </tr>\n",
       "  </tbody>\n",
       "</table>\n",
       "</div>"
      ],
      "text/plain": [
       "                                            0                       1  \\\n",
       "VendorID                                    1                       2   \n",
       "tpep_pickup_datetime   09/04/2018 08:52:14 PM  09/04/2018 08:33:03 PM   \n",
       "tpep_dropoff_datetime  09/04/2018 08:59:39 PM  09/04/2018 08:40:55 PM   \n",
       "passenger_count                             1                       1   \n",
       "trip_distance                             1.2                    1.06   \n",
       "RatecodeID                                  1                       1   \n",
       "store_and_fwd_flag                          N                       N   \n",
       "PULocationID                              142                     113   \n",
       "DOLocationID                               48                      90   \n",
       "payment_type                                1                       1   \n",
       "fare_amount                                 7                     6.5   \n",
       "extra                                     0.5                     0.5   \n",
       "mta_tax                                   0.5                     0.5   \n",
       "tip_amount                               1.25                    1.56   \n",
       "tolls_amount                                0                       0   \n",
       "improvement_surcharge                     0.3                     0.3   \n",
       "total_amount                             9.55                    9.36   \n",
       "\n",
       "                                            2                       3  \\\n",
       "VendorID                                    2                       1   \n",
       "tpep_pickup_datetime   09/04/2018 08:54:45 PM  09/04/2018 08:57:24 PM   \n",
       "tpep_dropoff_datetime  09/04/2018 09:04:58 PM  09/04/2018 09:06:24 PM   \n",
       "passenger_count                             1                       1   \n",
       "trip_distance                            1.91                     1.3   \n",
       "RatecodeID                                  1                       1   \n",
       "store_and_fwd_flag                          N                       N   \n",
       "PULocationID                              211                     161   \n",
       "DOLocationID                              234                     234   \n",
       "payment_type                                2                       1   \n",
       "fare_amount                                 9                     7.5   \n",
       "extra                                     0.5                     0.5   \n",
       "mta_tax                                   0.5                     0.5   \n",
       "tip_amount                                  0                    1.75   \n",
       "tolls_amount                                0                       0   \n",
       "improvement_surcharge                     0.3                     0.3   \n",
       "total_amount                             10.3                   10.55   \n",
       "\n",
       "                                            4  \n",
       "VendorID                                    1  \n",
       "tpep_pickup_datetime   09/04/2018 08:30:56 PM  \n",
       "tpep_dropoff_datetime  09/04/2018 08:41:18 PM  \n",
       "passenger_count                             1  \n",
       "trip_distance                             1.2  \n",
       "RatecodeID                                  1  \n",
       "store_and_fwd_flag                          N  \n",
       "PULocationID                              239  \n",
       "DOLocationID                              238  \n",
       "payment_type                                1  \n",
       "fare_amount                               8.5  \n",
       "extra                                     0.5  \n",
       "mta_tax                                   0.5  \n",
       "tip_amount                               1.96  \n",
       "tolls_amount                                0  \n",
       "improvement_surcharge                     0.3  \n",
       "total_amount                            11.76  "
      ]
     },
     "execution_count": 5,
     "metadata": {},
     "output_type": "execute_result"
    }
   ],
   "source": [
    "pd.DataFrame(df.head(5), columns=df.columns).transpose()"
   ]
  },
  {
   "cell_type": "markdown",
   "metadata": {},
   "source": [
    "Compute basic statistics by features."
   ]
  },
  {
   "cell_type": "code",
   "execution_count": null,
   "metadata": {},
   "outputs": [
    {
     "data": {
      "text/html": [
       "<div>\n",
       "<style scoped>\n",
       "    .dataframe tbody tr th:only-of-type {\n",
       "        vertical-align: middle;\n",
       "    }\n",
       "\n",
       "    .dataframe tbody tr th {\n",
       "        vertical-align: top;\n",
       "    }\n",
       "\n",
       "    .dataframe thead th {\n",
       "        text-align: right;\n",
       "    }\n",
       "</style>\n",
       "<table border=\"1\" class=\"dataframe\">\n",
       "  <thead>\n",
       "    <tr style=\"text-align: right;\">\n",
       "      <th></th>\n",
       "      <th>0</th>\n",
       "      <th>1</th>\n",
       "      <th>2</th>\n",
       "      <th>3</th>\n",
       "      <th>4</th>\n",
       "    </tr>\n",
       "  </thead>\n",
       "  <tbody>\n",
       "    <tr>\n",
       "      <th>summary</th>\n",
       "      <td>count</td>\n",
       "      <td>mean</td>\n",
       "      <td>stddev</td>\n",
       "      <td>min</td>\n",
       "      <td>max</td>\n",
       "    </tr>\n",
       "    <tr>\n",
       "      <th>VendorID</th>\n",
       "      <td>112234626</td>\n",
       "      <td>1.5897626281571964</td>\n",
       "      <td>0.5179106148171566</td>\n",
       "      <td>1</td>\n",
       "      <td>4</td>\n",
       "    </tr>\n",
       "    <tr>\n",
       "      <th>tpep_pickup_datetime</th>\n",
       "      <td>112234626</td>\n",
       "      <td>None</td>\n",
       "      <td>None</td>\n",
       "      <td>01/01/2001 10:55:43 PM</td>\n",
       "      <td>12/31/2018 12:59:59 PM</td>\n",
       "    </tr>\n",
       "    <tr>\n",
       "      <th>tpep_dropoff_datetime</th>\n",
       "      <td>112234626</td>\n",
       "      <td>None</td>\n",
       "      <td>None</td>\n",
       "      <td>01/01/2001 04:53:11 PM</td>\n",
       "      <td>12/31/2018 12:59:59 PM</td>\n",
       "    </tr>\n",
       "    <tr>\n",
       "      <th>passenger_count</th>\n",
       "      <td>112234626</td>\n",
       "      <td>1.5955153091524534</td>\n",
       "      <td>1.241768530226261</td>\n",
       "      <td>0</td>\n",
       "      <td>192</td>\n",
       "    </tr>\n",
       "    <tr>\n",
       "      <th>trip_distance</th>\n",
       "      <td>112234626</td>\n",
       "      <td>2.9294395068416135</td>\n",
       "      <td>18.337394520895376</td>\n",
       "      <td>0.0</td>\n",
       "      <td>189483.84</td>\n",
       "    </tr>\n",
       "    <tr>\n",
       "      <th>RatecodeID</th>\n",
       "      <td>112234626</td>\n",
       "      <td>1.0494463892096901</td>\n",
       "      <td>0.7380673063734534</td>\n",
       "      <td>1</td>\n",
       "      <td>99</td>\n",
       "    </tr>\n",
       "    <tr>\n",
       "      <th>store_and_fwd_flag</th>\n",
       "      <td>112234626</td>\n",
       "      <td>None</td>\n",
       "      <td>None</td>\n",
       "      <td>N</td>\n",
       "      <td>Y</td>\n",
       "    </tr>\n",
       "    <tr>\n",
       "      <th>PULocationID</th>\n",
       "      <td>112234626</td>\n",
       "      <td>163.17901635810682</td>\n",
       "      <td>66.5401807546528</td>\n",
       "      <td>1</td>\n",
       "      <td>265</td>\n",
       "    </tr>\n",
       "    <tr>\n",
       "      <th>DOLocationID</th>\n",
       "      <td>112234626</td>\n",
       "      <td>161.40208369385041</td>\n",
       "      <td>70.42425630974124</td>\n",
       "      <td>1</td>\n",
       "      <td>265</td>\n",
       "    </tr>\n",
       "    <tr>\n",
       "      <th>payment_type</th>\n",
       "      <td>112234626</td>\n",
       "      <td>1.313830626566172</td>\n",
       "      <td>0.4844004146216988</td>\n",
       "      <td>1</td>\n",
       "      <td>5</td>\n",
       "    </tr>\n",
       "    <tr>\n",
       "      <th>fare_amount</th>\n",
       "      <td>112234626</td>\n",
       "      <td>13.026151905384438</td>\n",
       "      <td>147.0310431843779</td>\n",
       "      <td>-800.0</td>\n",
       "      <td>907070.24</td>\n",
       "    </tr>\n",
       "    <tr>\n",
       "      <th>extra</th>\n",
       "      <td>112234626</td>\n",
       "      <td>0.33100818271537663</td>\n",
       "      <td>0.4659485914183492</td>\n",
       "      <td>-80.0</td>\n",
       "      <td>96.64</td>\n",
       "    </tr>\n",
       "    <tr>\n",
       "      <th>mta_tax</th>\n",
       "      <td>112234626</td>\n",
       "      <td>0.4971519540680787</td>\n",
       "      <td>0.05218330979635023</td>\n",
       "      <td>-0.5</td>\n",
       "      <td>150.0</td>\n",
       "    </tr>\n",
       "    <tr>\n",
       "      <th>tip_amount</th>\n",
       "      <td>112234626</td>\n",
       "      <td>1.872473762954589</td>\n",
       "      <td>2.6079470523617982</td>\n",
       "      <td>-322.42</td>\n",
       "      <td>945.97</td>\n",
       "    </tr>\n",
       "    <tr>\n",
       "      <th>tolls_amount</th>\n",
       "      <td>112234626</td>\n",
       "      <td>0.3450687114156444</td>\n",
       "      <td>1.7812277318189218</td>\n",
       "      <td>-52.5</td>\n",
       "      <td>1650.0</td>\n",
       "    </tr>\n",
       "    <tr>\n",
       "      <th>improvement_surcharge</th>\n",
       "      <td>112234626</td>\n",
       "      <td>0.29962248173894296</td>\n",
       "      <td>0.6046082979031185</td>\n",
       "      <td>-0.3</td>\n",
       "      <td>4000.3</td>\n",
       "    </tr>\n",
       "    <tr>\n",
       "      <th>total_amount</th>\n",
       "      <td>112234626</td>\n",
       "      <td>16.375170395035937</td>\n",
       "      <td>147.27979439909242</td>\n",
       "      <td>-800.3</td>\n",
       "      <td>907071.04</td>\n",
       "    </tr>\n",
       "  </tbody>\n",
       "</table>\n",
       "</div>"
      ],
      "text/plain": [
       "                               0                    1                    2  \\\n",
       "summary                    count                 mean               stddev   \n",
       "VendorID               112234626   1.5897626281571964   0.5179106148171566   \n",
       "tpep_pickup_datetime   112234626                 None                 None   \n",
       "tpep_dropoff_datetime  112234626                 None                 None   \n",
       "passenger_count        112234626   1.5955153091524534    1.241768530226261   \n",
       "trip_distance          112234626   2.9294395068416135   18.337394520895376   \n",
       "RatecodeID             112234626   1.0494463892096901   0.7380673063734534   \n",
       "store_and_fwd_flag     112234626                 None                 None   \n",
       "PULocationID           112234626   163.17901635810682     66.5401807546528   \n",
       "DOLocationID           112234626   161.40208369385041    70.42425630974124   \n",
       "payment_type           112234626    1.313830626566172   0.4844004146216988   \n",
       "fare_amount            112234626   13.026151905384438    147.0310431843779   \n",
       "extra                  112234626  0.33100818271537663   0.4659485914183492   \n",
       "mta_tax                112234626   0.4971519540680787  0.05218330979635023   \n",
       "tip_amount             112234626    1.872473762954589   2.6079470523617982   \n",
       "tolls_amount           112234626   0.3450687114156444   1.7812277318189218   \n",
       "improvement_surcharge  112234626  0.29962248173894296   0.6046082979031185   \n",
       "total_amount           112234626   16.375170395035937   147.27979439909242   \n",
       "\n",
       "                                            3                       4  \n",
       "summary                                   min                     max  \n",
       "VendorID                                    1                       4  \n",
       "tpep_pickup_datetime   01/01/2001 10:55:43 PM  12/31/2018 12:59:59 PM  \n",
       "tpep_dropoff_datetime  01/01/2001 04:53:11 PM  12/31/2018 12:59:59 PM  \n",
       "passenger_count                             0                     192  \n",
       "trip_distance                             0.0               189483.84  \n",
       "RatecodeID                                  1                      99  \n",
       "store_and_fwd_flag                          N                       Y  \n",
       "PULocationID                                1                     265  \n",
       "DOLocationID                                1                     265  \n",
       "payment_type                                1                       5  \n",
       "fare_amount                            -800.0               907070.24  \n",
       "extra                                   -80.0                   96.64  \n",
       "mta_tax                                  -0.5                   150.0  \n",
       "tip_amount                            -322.42                  945.97  \n",
       "tolls_amount                            -52.5                  1650.0  \n",
       "improvement_surcharge                    -0.3                  4000.3  \n",
       "total_amount                           -800.3               907071.04  "
      ]
     },
     "execution_count": 6,
     "metadata": {},
     "output_type": "execute_result"
    }
   ],
   "source": [
    "df.describe().toPandas().transpose()"
   ]
  },
  {
   "cell_type": "markdown",
   "metadata": {},
   "source": [
    "Count the number of unique values by features."
   ]
  },
  {
   "cell_type": "code",
   "execution_count": 6,
   "metadata": {},
   "outputs": [
    {
     "data": {
      "text/plain": [
       "[('VendorID', 3),\n",
       " ('tpep_pickup_datetime', 265019),\n",
       " ('tpep_dropoff_datetime', 265987),\n",
       " ('passenger_count', 10),\n",
       " ('trip_distance', 3156),\n",
       " ('RatecodeID', 7),\n",
       " ('store_and_fwd_flag', 2),\n",
       " ('PULocationID', 250),\n",
       " ('DOLocationID', 259),\n",
       " ('payment_type', 4),\n",
       " ('fare_amount', 1566),\n",
       " ('extra', 18),\n",
       " ('mta_tax', 9),\n",
       " ('tip_amount', 2094),\n",
       " ('tolls_amount', 330),\n",
       " ('improvement_surcharge', 3),\n",
       " ('total_amount', 6329)]"
      ]
     },
     "execution_count": 6,
     "metadata": {},
     "output_type": "execute_result"
    }
   ],
   "source": [
    "[(feature, df.select(feature).distinct().count()) for feature in df.columns]"
   ]
  },
  {
   "cell_type": "markdown",
   "metadata": {},
   "source": [
    "Define target feature and compute linear correlations between it and other numerical features."
   ]
  },
  {
   "cell_type": "code",
   "execution_count": 7,
   "metadata": {},
   "outputs": [],
   "source": [
    "target = 'total_amount'"
   ]
  },
  {
   "cell_type": "code",
   "execution_count": 8,
   "metadata": {},
   "outputs": [
    {
     "name": "stdout",
     "output_type": "stream",
     "text": [
      "Correlation between total_amount and VendorID: 0.0197917706212\n",
      "Correlation between total_amount and passenger_count: 0.00924588181119\n",
      "Correlation between total_amount and trip_distance: 0.88137909097\n",
      "Correlation between total_amount and RatecodeID: 0.307053895976\n",
      "Correlation between total_amount and PULocationID: -0.0755780016015\n",
      "Correlation between total_amount and DOLocationID: -0.0823406136942\n",
      "Correlation between total_amount and payment_type: -0.127486456994\n",
      "Correlation between total_amount and fare_amount: 0.979547614633\n",
      "Correlation between total_amount and extra: 0.118150936323\n",
      "Correlation between total_amount and mta_tax: -0.0820888468893\n",
      "Correlation between total_amount and tip_amount: 0.663182857453\n",
      "Correlation between total_amount and tolls_amount: 0.613979162677\n",
      "Correlation between total_amount and improvement_surcharge: 0.0428946700627\n"
     ]
    }
   ],
   "source": [
    "for feature, feature_type in df.dtypes:\n",
    "    if feature!=target and feature_type!='string':\n",
    "        print('Correlation between total_amount and '+feature+': '+str(df.stat.corr(target, feature)))"
   ]
  },
  {
   "cell_type": "markdown",
   "metadata": {},
   "source": [
    "Define the list of features for the models."
   ]
  },
  {
   "cell_type": "code",
   "execution_count": 9,
   "metadata": {},
   "outputs": [],
   "source": [
    "model_features = ['VendorID','passenger_count','trip_distance','extra','mta_tax','tip_amount','tolls_amount','improvement_surcharge','fare_amount','RatecodeID','payment_type']"
   ]
  },
  {
   "cell_type": "markdown",
   "metadata": {},
   "source": [
    "Create the Spark features assembler for the models and apply it to the data."
   ]
  },
  {
   "cell_type": "code",
   "execution_count": 10,
   "metadata": {},
   "outputs": [],
   "source": [
    "assembler = VectorAssembler(inputCols=model_features, outputCol='features')\n",
    "df_assembler = assembler.transform(df).select(['features',target])"
   ]
  },
  {
   "cell_type": "markdown",
   "metadata": {},
   "source": [
    "Split data into train and test."
   ]
  },
  {
   "cell_type": "code",
   "execution_count": 11,
   "metadata": {},
   "outputs": [],
   "source": [
    "train, test = df_assembler.randomSplit([0.8,0.2], seed=1)"
   ]
  },
  {
   "cell_type": "markdown",
   "metadata": {},
   "source": [
    "Define the validation metrics."
   ]
  },
  {
   "cell_type": "code",
   "execution_count": 12,
   "metadata": {},
   "outputs": [],
   "source": [
    "r2 = RegressionEvaluator(predictionCol='prediction', labelCol=target, metricName='r2')\n",
    "rmse = RegressionEvaluator(predictionCol='prediction', labelCol=target, metricName='rmse')"
   ]
  },
  {
   "cell_type": "markdown",
   "metadata": {},
   "source": [
    "#### Linear Regression\n",
    "\n",
    "Train a Linear Regression with train data."
   ]
  },
  {
   "cell_type": "code",
   "execution_count": 13,
   "metadata": {},
   "outputs": [],
   "source": [
    "model_lr = LinearRegression(featuresCol='features', labelCol=target, maxIter=10, regParam=0.3, elasticNetParam=0.8)\n",
    "model_lr = model_lr.fit(train)"
   ]
  },
  {
   "cell_type": "markdown",
   "metadata": {},
   "source": [
    "Print the model coefficients of features."
   ]
  },
  {
   "cell_type": "code",
   "execution_count": 14,
   "metadata": {},
   "outputs": [
    {
     "name": "stdout",
     "output_type": "stream",
     "text": [
      "Coefficient for VendorID :0.0\n",
      "Coefficient for passenger_count :0.0\n",
      "Coefficient for trip_distance :0.07191029728547152\n",
      "Coefficient for extra :0.574443964363591\n",
      "Coefficient for mta_tax :0.0\n",
      "Coefficient for tip_amount :0.9212248613586805\n",
      "Coefficient for tolls_amount :0.8898254289302157\n",
      "Coefficient for improvement_surcharge :0.0\n",
      "Coefficient for fare_amount :0.9731481648205144\n",
      "Coefficient for RatecodeID :0.0\n",
      "Coefficient for payment_type :0.0\n",
      "Intercept: 1.30884065482\n"
     ]
    }
   ],
   "source": [
    "for feature, coefficient in zip(features, model_lr.coefficients):\n",
    "    print('Coefficient for '+feature+' :'+str(coefficient))\n",
    "print('Intercept: '+str(model_lr.intercept))"
   ]
  },
  {
   "cell_type": "markdown",
   "metadata": {},
   "source": [
    "Evaluation metrics on train and test data."
   ]
  },
  {
   "cell_type": "code",
   "execution_count": 15,
   "metadata": {},
   "outputs": [
    {
     "name": "stdout",
     "output_type": "stream",
     "text": [
      "R2 on train data: 0.998986136841\n",
      "R2 on test data: 0.998960124184\n",
      "RMSE on train data: 0.462498364762\n",
      "RMSE on test data: 0.459752030492\n"
     ]
    }
   ],
   "source": [
    "train_prediction_lr = model_lr.transform(train)\n",
    "test_prediction_lr = model_lr.transform(test)\n",
    "print('R2 on train data: '+str(r2.evaluate(train_prediction_lr)))\n",
    "print('R2 on test data: '+str(r2.evaluate(test_prediction_lr)))\n",
    "print('RMSE on train data: '+str(rmse.evaluate(train_prediction_lr)))\n",
    "print('RMSE on test data: '+str(rmse.evaluate(test_prediction_lr)))"
   ]
  },
  {
   "cell_type": "markdown",
   "metadata": {},
   "source": [
    "Save the model into HDFS."
   ]
  },
  {
   "cell_type": "code",
   "execution_count": 16,
   "metadata": {},
   "outputs": [],
   "source": [
    "model_lr.save('hdfs://cluster-ebb0-m/hadoop/model_lr.model')"
   ]
  },
  {
   "cell_type": "markdown",
   "metadata": {},
   "source": [
    "#### GBT Regressor\n",
    "\n",
    "Train a GBT Regressor with train data."
   ]
  },
  {
   "cell_type": "code",
   "execution_count": 17,
   "metadata": {},
   "outputs": [],
   "source": [
    "model_gbt = GBTRegressor(featuresCol='features', labelCol=target, maxIter=20)\n",
    "model_gbt = model_gbt.fit(train)"
   ]
  },
  {
   "cell_type": "markdown",
   "metadata": {},
   "source": [
    "Print the model importance of features."
   ]
  },
  {
   "cell_type": "code",
   "execution_count": 18,
   "metadata": {},
   "outputs": [
    {
     "name": "stdout",
     "output_type": "stream",
     "text": [
      "Importance for VendorID :0.0160317309196147\n",
      "Importance for passenger_count :0.14219269723412462\n",
      "Importance for trip_distance :0.08401662463745625\n",
      "Importance for extra :0.025521871273252866\n",
      "Importance for mta_tax :0.03581274772313998\n",
      "Importance for tip_amount :0.09563840355267972\n",
      "Importance for tolls_amount :0.1165711884478701\n",
      "Importance for improvement_surcharge :0.030422229486347974\n",
      "Importance for fare_amount :0.2918222044596368\n",
      "Importance for RatecodeID :0.12675943941113266\n",
      "Importance for payment_type :0.03521086285474421\n"
     ]
    }
   ],
   "source": [
    "for feature, importance in zip(features, model_gbt.featureImportances):\n",
    "    print('Importance for '+feature+' :'+str(importance))"
   ]
  },
  {
   "cell_type": "markdown",
   "metadata": {},
   "source": [
    "Evaluation metrics on train and test data."
   ]
  },
  {
   "cell_type": "code",
   "execution_count": 19,
   "metadata": {},
   "outputs": [
    {
     "name": "stdout",
     "output_type": "stream",
     "text": [
      "R2 on train data: 0.940314848766\n",
      "R2 on test data: 0.938992851618\n",
      "RMSE on train data: 3.54857247698\n",
      "RMSE on test data: 3.5214642172\n"
     ]
    }
   ],
   "source": [
    "train_prediction_gbt = model_gbt.transform(train)\n",
    "test_prediction_gbt = model_gbt.transform(test)\n",
    "print('R2 on train data: '+str(r2.evaluate(train_prediction_gbt)))\n",
    "print('R2 on test data: '+str(r2.evaluate(test_prediction_gbt)))\n",
    "print('RMSE on train data: '+str(rmse.evaluate(train_prediction_gbt)))\n",
    "print('RMSE on test data: '+str(rmse.evaluate(test_prediction_gbt)))"
   ]
  },
  {
   "cell_type": "markdown",
   "metadata": {},
   "source": [
    "Save the model into HDFS."
   ]
  },
  {
   "cell_type": "code",
   "execution_count": 20,
   "metadata": {},
   "outputs": [],
   "source": [
    "model_gbt.save('hdfs://cluster-ebb0-m/hadoop/model_gbt.model')"
   ]
  },
  {
   "cell_type": "markdown",
   "metadata": {},
   "source": [
    "Stop Spark session."
   ]
  },
  {
   "cell_type": "code",
   "execution_count": 21,
   "metadata": {},
   "outputs": [],
   "source": [
    "spark.stop()"
   ]
  }
 ],
 "metadata": {
  "kernelspec": {
   "display_name": "Python 3",
   "language": "python",
   "name": "python3"
  },
  "language_info": {
   "codemirror_mode": {
    "name": "ipython",
    "version": 3
   },
   "file_extension": ".py",
   "mimetype": "text/x-python",
   "name": "python",
   "nbconvert_exporter": "python",
   "pygments_lexer": "ipython3",
   "version": "3.6.8"
  }
 },
 "nbformat": 4,
 "nbformat_minor": 2
}
